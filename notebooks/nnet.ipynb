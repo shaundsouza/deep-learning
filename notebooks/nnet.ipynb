{
 "cells": [
  {
   "cell_type": "markdown",
   "metadata": {},
   "source": [
    "# Neural Network\n",
    "\n",
    "Nbviewer [https://nbviewer.jupyter.org/github/shaundsouza/deep-learning/blob/master/notebooks/nnet.ipynb](https://nbviewer.jupyter.org/github/shaundsouza/deep-learning/blob/master/notebooks/nnet.ipynb)\n",
    "\n",
    "Code [https://nbviewer.jupyter.org/format/script/github/shaundsouza/deep-learning/blob/master/notebooks/nnet.ipynb](https://nbviewer.jupyter.org/format/script/github/shaundsouza/deep-learning/blob/master/notebooks/nnet.ipynb)\n"
   ]
  },
  {
   "cell_type": "code",
   "execution_count": 4,
   "metadata": {},
   "outputs": [
    {
     "data": {
      "image/png": "[encoded data removed]",
      "text/plain": [
       "<Figure size 432x288 with 1 Axes>"
      ]
     },
     "metadata": {},
     "output_type": "display_data"
    }
   ],
   "source": [
    "import numpy as np\n",
    "import matplotlib.pyplot as plt\n",
    "from matplotlib import animation, rc\n",
    "from IPython.display import HTML\n",
    "\n",
    "get_ipython().magic('matplotlib inline')\n",
    "\n",
    "def sigmoid(x):\n",
    "    return 1 / (1 + np.exp(-x))\n",
    "\n",
    "def diff_sigmoid(t):\n",
    "    return t * (1 - t)\n",
    "\n",
    "def od(t, y):\n",
    "    return diff_sigmoid(t) * (y - t)\n",
    "\n",
    "def nn_error(x, w1, w2, y):\n",
    "    h = sigmoid(np.matmul(x, w1))\n",
    "    t = sigmoid(np.matmul(h, w2))\n",
    "    return sum((y - t)**2)\n",
    "\n",
    "fig, ax = plt.subplots()\n",
    "\n",
    "x = np.array([1.5,2,1,3.5,3,4,3,1,2,4,3,2,1,1,1,1,1,1]).reshape(3,6).T\n",
    "size_x = x.shape\n",
    "\n",
    "y = np.array([0,0,0,1,1,1]).reshape(6,1)\n",
    "size_y = y.shape\n",
    "\n",
    "size_h = 2\n",
    "err = []\n",
    "\n",
    "line, = ax.plot([], [], lw=2)\n",
    "\n",
    "def init():\n",
    "    line.set_data([], [])\n",
    "    return (line,)\n",
    "\n",
    "def animate(i):\n",
    "    line.set_data(err[i][0], err[i][1])\n",
    "    return (line,)\n",
    "\n",
    "# w1 = np.array([.2,-.1,.4,.7,-1.2,1.2]).reshape(2,3).T\n",
    "# w2 = np.array([1.1,.1]).reshape(1,2).T\n",
    "# w2 = np.array([1.1,.1,3.1,1.17]).reshape(2,2).T\n",
    "w1 = np.random.randn(3, 2)\n",
    "w2 = np.random.randn(2, 1)\n",
    "\n",
    "err_prev = 100\n",
    "# print(x)\n",
    "# print(w1)\n",
    "# print(w2)\n",
    "\n",
    "for n in range(10000):\n",
    "    e = nn_error(x, w1, w2, y) \n",
    "    err.append(e)\n",
    "#     print(n, e)\n",
    "\n",
    "    if (e > err_prev):\n",
    "        break\n",
    "\n",
    "    err_prev = e\n",
    "\n",
    "    for i in range(size_x[0]):\n",
    "        h = sigmoid(np.dot(x[i,:], w1))\n",
    "        t = sigmoid(np.dot(h, w2))\n",
    "\n",
    "        d_o = od(t, y[i,:])\n",
    "        backp = d_o * w2\n",
    "        d_h = h * (1 - h) * backp.ravel()\n",
    "\n",
    "        a=0.3\n",
    "\n",
    "        for j in range(size_x[1]):\n",
    "            d_w1 = a * x[i, j] * d_h\n",
    "            w1[j,:] = w1[j,:] + d_w1\n",
    "\n",
    "        for j in range(size_h):\n",
    "            d_w2 = a * h[j] * d_o\n",
    "            w2[j,:] = w2[j,:] + d_w2\n",
    "\n",
    "h = sigmoid(np.matmul(x, w1))\n",
    "t = sigmoid(np.matmul(h, w2))\n",
    "# print(w1)\n",
    "# print(w2)\n",
    "# print(t)\n",
    "\n",
    "plt.plot(err)\n",
    "plt.show()\n",
    "\n",
    "# anim = animation.FuncAnimation(fig, animate, init_func=init, frames=len(err))\n",
    "\n",
    "# HTML(anim.to_html5_video())\n",
    "\n",
    "\n",
    "\n"
   ]
  },
  {
   "cell_type": "code",
   "execution_count": null,
   "metadata": {},
   "outputs": [],
   "source": []
  }
 ],
 "metadata": {
  "kernelspec": {
   "display_name": "Python 3",
   "language": "python",
   "name": "python3"
  },
  "language_info": {
   "codemirror_mode": {
    "name": "ipython",
    "version": 3
   },
   "file_extension": ".py",
   "mimetype": "text/x-python",
   "name": "python",
   "nbconvert_exporter": "python",
   "pygments_lexer": "ipython3",
   "version": "3.6.6"
  }
 },
 "nbformat": 4,
 "nbformat_minor": 2
}
